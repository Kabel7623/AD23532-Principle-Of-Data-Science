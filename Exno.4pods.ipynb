{
 "cells": [
  {
   "cell_type": "code",
   "execution_count": 3,
   "id": "47590c4a",
   "metadata": {},
   "outputs": [],
   "source": [
    "import pandas as pd\n",
    "import numpy as np\n",
    "import re\n",
    "import nltk\n",
    "from nltk.corpus import stopwords\n",
    "from nltk.tokenize import word_tokenize\n",
    "from sklearn.feature_extraction.text import TfidfVectorizer\n",
    "from sklearn.metrics.pairwise import cosine_similarity\n"
   ]
  },
  {
   "cell_type": "code",
   "execution_count": 4,
   "id": "eda370a8",
   "metadata": {},
   "outputs": [
    {
     "name": "stderr",
     "output_type": "stream",
     "text": [
      "[nltk_data] Downloading package punkt to\n",
      "[nltk_data]     C:\\Users\\Tcs\\AppData\\Roaming\\nltk_data...\n",
      "[nltk_data]   Package punkt is already up-to-date!\n",
      "[nltk_data] Downloading package stopwords to\n",
      "[nltk_data]     C:\\Users\\Tcs\\AppData\\Roaming\\nltk_data...\n",
      "[nltk_data]   Package stopwords is already up-to-date!\n",
      "[nltk_data] Downloading package punkt_tab to\n",
      "[nltk_data]     C:\\Users\\Tcs\\AppData\\Roaming\\nltk_data...\n",
      "[nltk_data]   Package punkt_tab is already up-to-date!\n"
     ]
    },
    {
     "data": {
      "text/plain": [
       "True"
      ]
     },
     "execution_count": 4,
     "metadata": {},
     "output_type": "execute_result"
    }
   ],
   "source": [
    "nltk.download('punkt')\n",
    "nltk.download('stopwords')\n",
    "nltk.download('punkt_tab')"
   ]
  },
  {
   "cell_type": "code",
   "execution_count": 5,
   "id": "0bc6b9ed",
   "metadata": {},
   "outputs": [
    {
     "name": "stderr",
     "output_type": "stream",
     "text": [
      "C:\\Users\\Tcs\\AppData\\Local\\Temp\\ipykernel_9252\\2156837538.py:3: SettingWithCopyWarning: \n",
      "A value is trying to be set on a copy of a slice from a DataFrame\n",
      "\n",
      "See the caveats in the documentation: https://pandas.pydata.org/pandas-docs/stable/user_guide/indexing.html#returning-a-view-versus-a-copy\n",
      "  reviews.dropna(inplace=True)\n"
     ]
    }
   ],
   "source": [
    "df = pd.read_csv(\"Reviews.csv\")\n",
    "reviews = df[['Text']]\n",
    "reviews.dropna(inplace=True)\n",
    "reviews = reviews[:10000]\n"
   ]
  },
  {
   "cell_type": "code",
   "execution_count": 6,
   "id": "923778e9",
   "metadata": {},
   "outputs": [],
   "source": [
    "stop_words = set(stopwords.words('english'))\n"
   ]
  },
  {
   "cell_type": "code",
   "execution_count": 7,
   "id": "4f8d90ae",
   "metadata": {},
   "outputs": [],
   "source": [
    "def preprocess(text):\n",
    "    text = text.lower()\n",
    "    text = re.sub(r'[^a-z\\s]', '', text)\n",
    "    tokens = word_tokenize(text)\n",
    "    filtered_tokens = [word for word in tokens if word not in stop_words]\n",
    "    return ' '.join(filtered_tokens)\n"
   ]
  },
  {
   "cell_type": "code",
   "execution_count": 8,
   "id": "eb2d1f22",
   "metadata": {},
   "outputs": [],
   "source": [
    "reviews['Cleaned_Text'] = reviews['Text'].apply(preprocess)"
   ]
  },
  {
   "cell_type": "code",
   "execution_count": 9,
   "id": "7cf3f887",
   "metadata": {},
   "outputs": [],
   "source": [
    "vectorizer = TfidfVectorizer()\n",
    "tfidf_matrix = vectorizer.fit_transform(reviews['Cleaned_Text'])\n"
   ]
  },
  {
   "cell_type": "code",
   "execution_count": 10,
   "id": "59ca7aab",
   "metadata": {},
   "outputs": [],
   "source": [
    "def search_reviews(query, k=5):\n",
    "    cleaned_query = preprocess(query)\n",
    "    query_vec = vectorizer.transform([cleaned_query])\n",
    "    similarity = cosine_similarity(query_vec, tfidf_matrix)\n",
    "    top_k_indices = similarity[0].argsort()[-k:][::-1]\n",
    "    results = reviews.iloc[top_k_indices][['Text', 'Cleaned_Text']]\n",
    "    return results\n"
   ]
  },
  {
   "cell_type": "code",
   "execution_count": 11,
   "id": "2d729f35",
   "metadata": {},
   "outputs": [
    {
     "name": "stdout",
     "output_type": "stream",
     "text": [
      "Great product\n",
      "                                                   Text  \\\n",
      "8952  This is a good product with great price.  I re...   \n",
      "5617  I have ordered this product twice now and the ...   \n",
      "2557  I have very little to say about the product ex...   \n",
      "4471  This is a great product. Great flavors and ver...   \n",
      "3681  It is great! I like it alot. Great price too. ...   \n",
      "\n",
      "                                           Cleaned_Text  \n",
      "8952  good product great price received treat please...  \n",
      "5617  ordered product twice service product great wo...  \n",
      "2557  little say product except great product delive...  \n",
      "4471  great product great flavors fresh received qui...  \n",
      "3681  great like alot great price think delicious to...  \n"
     ]
    }
   ],
   "source": [
    "print(\"Great product\")\n",
    "print(search_reviews(\"great product\"))\n"
   ]
  },
  {
   "cell_type": "code",
   "execution_count": 12,
   "id": "2da360c9",
   "metadata": {},
   "outputs": [
    {
     "name": "stdout",
     "output_type": "stream",
     "text": [
      "Query: disappointed\n",
      "                                                   Text  \\\n",
      "4592  This was the worst tasting tea, actually the w...   \n",
      "5974  I am big coffee lover.  This was some of the w...   \n",
      "9381  The worst!!! it is just plan awful bitter and ...   \n",
      "8672  The worst!!! it is just plan awful bitter and ...   \n",
      "4863  this gum is the worst i have ever purchased, p...   \n",
      "\n",
      "                                           Cleaned_Text  \n",
      "4592  worst tasting tea actually worst tasting anyth...  \n",
      "5974  big coffee lover worst coffee ever smells wond...  \n",
      "9381  worst plan awful bitter strong taste hazel nut...  \n",
      "8672  worst plan awful bitter strong taste hazel nut...  \n",
      "4863  gum worst ever purchased plain simple within t...  \n"
     ]
    }
   ],
   "source": [
    "print(\"Query: disappointed\")\n",
    "print(search_reviews(\"worst\"))"
   ]
  },
  {
   "cell_type": "code",
   "execution_count": null,
   "id": "bf45fcea",
   "metadata": {},
   "outputs": [],
   "source": []
  }
 ],
 "metadata": {
  "kernelspec": {
   "display_name": "Python 3 (ipykernel)",
   "language": "python",
   "name": "python3"
  },
  "language_info": {
   "codemirror_mode": {
    "name": "ipython",
    "version": 3
   },
   "file_extension": ".py",
   "mimetype": "text/x-python",
   "name": "python",
   "nbconvert_exporter": "python",
   "pygments_lexer": "ipython3",
   "version": "3.9.12"
  }
 },
 "nbformat": 4,
 "nbformat_minor": 5
}
